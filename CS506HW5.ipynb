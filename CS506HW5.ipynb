{
 "cells": [
  {
   "cell_type": "code",
   "execution_count": 1,
   "id": "fcaee9bf-39fc-466a-a5d2-defe3d9df479",
   "metadata": {},
   "outputs": [],
   "source": [
    "import numpy as np\n",
    "import pandas as pd\n",
    "from collections import Counter\n",
    "from sklearn.model_selection import StratifiedKFold\n",
    "from sklearn.metrics import roc_auc_score\n",
    "from sklearn.impute import SimpleImputer\n",
    "from sklearn.preprocessing import LabelEncoder, StandardScaler"
   ]
  },
  {
   "cell_type": "code",
   "execution_count": 2,
   "id": "93ffa018-89de-47eb-a9e5-f6a8bc0f8b33",
   "metadata": {},
   "outputs": [],
   "source": [
    "train_data = pd.read_csv('train.csv')\n",
    "test_data = pd.read_csv('test.csv')"
   ]
  },
  {
   "cell_type": "code",
   "execution_count": 3,
   "id": "8022feb9-6537-411f-8a5a-14d503ddd4fa",
   "metadata": {},
   "outputs": [],
   "source": [
    "class KNN:\n",
    "    def __init__(self, k=3, distance_metric='euclidean'):\n",
    "        self.k = k\n",
    "        self.distance_metric = distance_metric\n",
    "\n",
    "    def fit(self, X, y):\n",
    "        self.X_train = X\n",
    "        self.y_train = y\n",
    "\n",
    "    def predict(self, X):\n",
    "        predictions = [self._predict_single(x) for x in X]\n",
    "        return np.array(predictions)\n",
    "\n",
    "    def _predict_single(self, x):\n",
    "        distances = [self.compute_distance(x, x_train) for x_train in self.X_train]\n",
    "        k_indices = np.argsort(distances)[:self.k]\n",
    "        k_nearest_labels = [self.y_train[i] for i in k_indices]\n",
    "        most_common = Counter(k_nearest_labels).most_common(1)\n",
    "        return most_common[0][0]\n",
    "\n",
    "    def compute_distance(self, X1, X2):\n",
    "        if self.distance_metric == 'euclidean':\n",
    "            return np.sqrt(np.sum((X1 - X2) ** 2))\n",
    "        elif self.distance_metric == 'manhattan':\n",
    "            return np.sum(np.abs(X1 - X2))\n",
    "        else:\n",
    "            raise ValueError(\"Unsupported distance metric\")"
   ]
  },
  {
   "cell_type": "code",
   "execution_count": 4,
   "id": "f1a38c68-502c-45e8-af53-796f1c39296a",
   "metadata": {},
   "outputs": [],
   "source": [
    "def preprocess_data(train, test):\n",
    "    # Dropping irrelevant columns: 'id', 'CustomerId', 'Surname'\n",
    "    train = train.drop(['id', 'CustomerId', 'Surname'], axis=1)\n",
    "    test = test.drop(['id', 'CustomerId', 'Surname'], axis=1)\n",
    "    \n",
    "    # Handle missing values\n",
    "    imputer_num = SimpleImputer(strategy='mean')\n",
    "    imputer_cat = SimpleImputer(strategy='most_frequent')\n",
    "    \n",
    "    numerical_cols = ['CreditScore', 'Age', 'Tenure', 'Balance', 'NumOfProducts', 'EstimatedSalary']\n",
    "    categorical_cols = ['Geography', 'Gender', 'HasCrCard', 'IsActiveMember']\n",
    "    \n",
    "    train[numerical_cols] = imputer_num.fit_transform(train[numerical_cols])\n",
    "    train[categorical_cols] = imputer_cat.fit_transform(train[categorical_cols])\n",
    "    \n",
    "    test[numerical_cols] = imputer_num.transform(test[numerical_cols])\n",
    "    test[categorical_cols] = imputer_cat.transform(test[categorical_cols])\n",
    "    \n",
    "    # Encoding categorical variables\n",
    "    label_encoders = {}\n",
    "    for col in categorical_cols:\n",
    "        le = LabelEncoder()\n",
    "        train[col] = le.fit_transform(train[col])\n",
    "        test[col] = le.transform(test[col])\n",
    "        label_encoders[col] = le\n",
    "    \n",
    "    train['Balance_to_Salary'] = train['Balance'] / (train['EstimatedSalary'] + 1)\n",
    "    test['Balance_to_Salary'] = test['Balance'] / (test['EstimatedSalary'] + 1)\n",
    "    \n",
    "    scaler = StandardScaler()\n",
    "    train[numerical_cols] = scaler.fit_transform(train[numerical_cols])\n",
    "    test[numerical_cols] = scaler.transform(test[numerical_cols])\n",
    "    \n",
    "    X_train = train.drop('Exited', axis=1)\n",
    "    y_train = train['Exited']\n",
    "    \n",
    "    return X_train, y_train, test"
   ]
  },
  {
   "cell_type": "code",
   "execution_count": 9,
   "id": "153a3b69-c53e-4796-9d53-55ccd984a481",
   "metadata": {},
   "outputs": [],
   "source": [
    "def cross_validate_sample(X, y, knn, n_splits=3, sample_size=0.3):\n",
    "    skf = StratifiedKFold(n_splits=n_splits)\n",
    "    auc_scores = []\n",
    "\n",
    "    sample_indices = np.random.choice(len(X), int(sample_size * len(X)), replace=False)\n",
    "    X_sample = X.iloc[sample_indices]\n",
    "    y_sample = y.iloc[sample_indices]\n",
    "\n",
    "    for train_idx, val_idx in skf.split(X_sample, y_sample):\n",
    "        X_train, X_val = X_sample.iloc[train_idx], X_sample.iloc[val_idx]\n",
    "        y_train, y_val = y_sample.iloc[train_idx], y_sample.iloc[val_idx]\n",
    "        \n",
    "        knn.fit(X_train.values, y_train.values)\n",
    "        y_val_pred = knn.predict(X_val.values)\n",
    "        auc = roc_auc_score(y_val, y_val_pred)\n",
    "        auc_scores.append(auc)\n",
    "\n",
    "    return np.mean(auc_scores)"
   ]
  },
  {
   "cell_type": "code",
   "execution_count": 11,
   "id": "8bb4ff97-ca72-4b37-953d-ea986de50d94",
   "metadata": {},
   "outputs": [],
   "source": [
    "X_train, y_train, X_test = preprocess_data(train_data, test_data)"
   ]
  },
  {
   "cell_type": "code",
   "execution_count": 13,
   "id": "f13086ba-3949-410a-9622-d991a3cb1963",
   "metadata": {},
   "outputs": [
    {
     "name": "stdout",
     "output_type": "stream",
     "text": [
      "k: 3, Metric: euclidean, AUC: 0.7603646264836792\n",
      "k: 3, Metric: manhattan, AUC: 0.7652486377825815\n",
      "k: 4, Metric: euclidean, AUC: 0.7441660075040418\n",
      "k: 4, Metric: manhattan, AUC: 0.7667308316820064\n",
      "k: 5, Metric: euclidean, AUC: 0.7509164771349983\n",
      "k: 5, Metric: manhattan, AUC: 0.7804733050370333\n",
      "k: 6, Metric: euclidean, AUC: 0.775610681826167\n",
      "k: 6, Metric: manhattan, AUC: 0.748368750068425\n",
      "Best k: 5, Best Distance Metric: manhattan, Best AUC: 0.7804733050370333\n"
     ]
    }
   ],
   "source": [
    "best_k = 3\n",
    "best_distance = 'euclidean'\n",
    "best_auc = 0\n",
    "\n",
    "for k in range(3, 7):\n",
    "    for metric in ['euclidean', 'manhattan']:\n",
    "        knn = KNN(k=k, distance_metric=metric)\n",
    "        auc_score = cross_validate_sample(X_train, y_train, knn, n_splits=3, sample_size=0.3)\n",
    "        print(f\"k: {k}, Metric: {metric}, AUC: {auc_score}\")\n",
    "        if auc_score > best_auc:\n",
    "            best_k = k\n",
    "            best_distance = metric\n",
    "            best_auc = auc_score\n",
    "\n",
    "print(f\"Best k: {best_k}, Best Distance Metric: {best_distance}, Best AUC: {best_auc}\")\n"
   ]
  },
  {
   "cell_type": "code",
   "execution_count": 15,
   "id": "fc32939c-1228-492d-ac25-2716cb89a95f",
   "metadata": {},
   "outputs": [],
   "source": [
    "knn_final = KNN(k=best_k, distance_metric=best_distance)\n",
    "knn_final.fit(X_train.values, y_train.values)\n",
    "\n",
    "test_predictions = knn_final.predict(X_test.values)"
   ]
  },
  {
   "cell_type": "code",
   "execution_count": 16,
   "id": "bbeba595-0ae9-4af2-baed-3e7b3b4cafbc",
   "metadata": {},
   "outputs": [
    {
     "name": "stdout",
     "output_type": "stream",
     "text": [
      "Predictions saved to 'submission.csv'.\n"
     ]
    }
   ],
   "source": [
    "# Prepare the submission file\n",
    "test_data = pd.read_csv('test.csv')\n",
    "submission = pd.DataFrame({\n",
    "    'id': test_data['id'],\n",
    "    'Exited': test_predictions\n",
    "})\n",
    "\n",
    "submission.to_csv('submission.csv', index=False)\n",
    "print(\"Predictions saved to 'submission.csv'.\")"
   ]
  }
 ],
 "metadata": {
  "kernelspec": {
   "display_name": "Python 3 (ipykernel)",
   "language": "python",
   "name": "python3"
  },
  "language_info": {
   "codemirror_mode": {
    "name": "ipython",
    "version": 3
   },
   "file_extension": ".py",
   "mimetype": "text/x-python",
   "name": "python",
   "nbconvert_exporter": "python",
   "pygments_lexer": "ipython3",
   "version": "3.12.2"
  }
 },
 "nbformat": 4,
 "nbformat_minor": 5
}
